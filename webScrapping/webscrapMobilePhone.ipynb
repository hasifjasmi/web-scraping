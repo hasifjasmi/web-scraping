{
 "cells": [
  {
   "cell_type": "code",
   "execution_count": null,
   "metadata": {},
   "outputs": [],
   "source": []
  },
  {
   "cell_type": "code",
   "execution_count": 11,
   "metadata": {},
   "outputs": [
    {
     "name": "stderr",
     "output_type": "stream",
     "text": [
      "C:\\Users\\hasif\\AppData\\Local\\Temp\\ipykernel_26580\\566004017.py:56: DeprecationWarning: executable_path has been deprecated, please pass in a Service object\n",
      "  driver = webdriver.Chrome(\n",
      "C:\\Users\\hasif\\AppData\\Local\\Temp\\ipykernel_26580\\566004017.py:56: DeprecationWarning: use options instead of chrome_options\n",
      "  driver = webdriver.Chrome(\n"
     ]
    }
   ],
   "source": [
    "from selenium import webdriver\n",
    "\n",
    "import pandas as pd\n",
    "from selenium.webdriver.common.keys import Keys\n",
    "from selenium.webdriver.support import expected_conditions as EC\n",
    "from selenium.webdriver.common.by import By\n",
    "from selenium.webdriver.support.wait import WebDriverWait\n",
    "from selenium.common.exceptions import NoSuchElementException\n",
    "\n",
    "import time\n",
    "from webdriver_manager.chrome import ChromeDriverManager\n",
    "\n",
    "import datetime\n",
    "# import nltk\n",
    "from time import sleep\n",
    "\n",
    "from selenium import webdriver\n",
    "\n",
    "from selenium.webdriver.chrome.options import Options\n",
    "\n",
    "chrome_options = webdriver.ChromeOptions()\n",
    "# chrome_options.add_argument(\"--no-sandbox\")\n",
    "# # chrome_options.add_argument('headless')\n",
    "# chrome_options.add_argument(\"--disable-dev-shm-usage\")\n",
    "# chrome_options.add_argument('--disable-gpu')\n",
    "# chrome_options.add_argument('--window-size=1920,1080')\n",
    "# chrome_options.add_argument('--disable-software-rasterizer')\n",
    "# chrome_options.add_experimental_option(\"prefs\", {\n",
    "#     \"download.default_directory\": \"C:/\",\n",
    "#     \"download.prompt_for_download\": False,\n",
    "#     \"download.directory_upgrade\": True,\n",
    "#     \"safebrowsing_for_trusted_sources_enabled\": False,\n",
    "#     \"safebrowsing.enabled\": False,\n",
    "#     \"safebrowsing.disable_download_protection\": True,\n",
    "#     \"download.panel.shown\": False\n",
    "# }\n",
    "# )\n",
    "# chrome_prefs = {}\n",
    "# chrome_options.experimental_options[\"prefs\"] = chrome_prefs\n",
    "# chrome_prefs[\"profile.default_content_settings\"] = {\"popups\": 1}\n",
    "# chrome_options.add_argument(\"--password-store=basic\")\n",
    "# chrome_options.add_experimental_option(\n",
    "#     \"prefs\",\n",
    "#     {\n",
    "#         \"credentials_enable_service\": False,\n",
    "#         \"profile.password_manager_enabled\": False,\n",
    "#     },\n",
    "# )\n",
    "# chrome_options.add_argument(\"--disable-web-security\")\n",
    "# chrome_options.add_experimental_option(\n",
    "#     \"excludeSwitches\", [\"enable-automation\"])\n",
    "# chrome_options.add_experimental_option('useAutomationExtension', False)\n",
    "# chrome_options.add_argument('disable-blink-features=AutomationControlled')\n",
    "# chrome_options.add_argument(\n",
    "#     'user-agent=\"Mozilla/5.0 (Windows NT 10.0; Win64; x64) AppleWebKit/537.36 (KHTML, like Gecko) Chrome/108.0.0.0 Safari/537.36\"')\n",
    "driver = webdriver.Chrome(\n",
    "    ChromeDriverManager().install(), chrome_options=chrome_options)\n",
    "\n",
    "# chrome_options = webdriver.ChromeOptions()\n",
    "# prefs = {\"profile.default_content_setting_values.notifications\": 2}\n",
    "# chrome_options.add_experimental_option(\"prefs\", prefs)"
   ]
  },
  {
   "cell_type": "code",
   "execution_count": 12,
   "metadata": {},
   "outputs": [
    {
     "name": "stdout",
     "output_type": "stream",
     "text": [
      "None\n"
     ]
    }
   ],
   "source": [
    "allbrands = []\n",
    "\n",
    "driver.get(\"https://www.gsmarena.com/makers.php3\")\n",
    "\n",
    "# Get all states in the options\n",
    "try:\n",
    "\n",
    "    all_li = driver.find_elements(By.XPATH, \"(//li)[14]\")\n",
    "    for li in all_li:\n",
    "        print(li.get_attribute('href'))\n",
    "except NoSuchElementException:\n",
    "    print('tak wujud lol')\n"
   ]
  }
 ],
 "metadata": {
  "kernelspec": {
   "display_name": "Python 3",
   "language": "python",
   "name": "python3"
  },
  "language_info": {
   "codemirror_mode": {
    "name": "ipython",
    "version": 3
   },
   "file_extension": ".py",
   "mimetype": "text/x-python",
   "name": "python",
   "nbconvert_exporter": "python",
   "pygments_lexer": "ipython3",
   "version": "3.9.13 (tags/v3.9.13:6de2ca5, May 17 2022, 16:36:42) [MSC v.1929 64 bit (AMD64)]"
  },
  "orig_nbformat": 4,
  "vscode": {
   "interpreter": {
    "hash": "39ae85b3ee882a2d92377b475b3720bc294fe64b3d1e7ba3acbb372d6ccd0baa"
   }
  }
 },
 "nbformat": 4,
 "nbformat_minor": 2
}
