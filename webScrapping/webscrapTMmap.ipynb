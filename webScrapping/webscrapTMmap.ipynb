{
 "cells": [
  {
   "cell_type": "code",
   "execution_count": 339,
   "metadata": {},
   "outputs": [
    {
     "name": "stderr",
     "output_type": "stream",
     "text": [
      "C:\\Users\\hasif\\AppData\\Local\\Temp\\ipykernel_14468\\349224642.py:56: DeprecationWarning: executable_path has been deprecated, please pass in a Service object\n",
      "  driver = webdriver.Chrome(\n",
      "C:\\Users\\hasif\\AppData\\Local\\Temp\\ipykernel_14468\\349224642.py:56: DeprecationWarning: use options instead of chrome_options\n",
      "  driver = webdriver.Chrome(\n"
     ]
    }
   ],
   "source": [
    "from selenium import webdriver\n",
    "\n",
    "import pandas as pd\n",
    "from selenium.webdriver.common.keys import Keys\n",
    "from selenium.webdriver.support import expected_conditions as EC\n",
    "from selenium.webdriver.common.by import By\n",
    "from selenium.webdriver.support.wait import WebDriverWait\n",
    "from selenium.common.exceptions import NoSuchElementException\n",
    "\n",
    "import time\n",
    "from webdriver_manager.chrome import ChromeDriverManager\n",
    "\n",
    "import datetime\n",
    "# import nltk\n",
    "from time import sleep\n",
    "\n",
    "from selenium import webdriver\n",
    "\n",
    "from selenium.webdriver.chrome.options import Options\n",
    "\n",
    "chrome_options = webdriver.ChromeOptions()\n",
    "chrome_options.add_argument(\"--no-sandbox\")\n",
    "# chrome_options.add_argument('headless')\n",
    "chrome_options.add_argument(\"--disable-dev-shm-usage\")\n",
    "chrome_options.add_argument('--disable-gpu')\n",
    "chrome_options.add_argument('--window-size=1920,1080')\n",
    "chrome_options.add_argument('--disable-software-rasterizer')\n",
    "chrome_options.add_experimental_option(\"prefs\", {\n",
    "    \"download.default_directory\": \"C:/\",\n",
    "    \"download.prompt_for_download\": False,\n",
    "    \"download.directory_upgrade\": True,\n",
    "    \"safebrowsing_for_trusted_sources_enabled\": False,\n",
    "    \"safebrowsing.enabled\": False,\n",
    "    \"safebrowsing.disable_download_protection\": True,\n",
    "    \"download.panel.shown\": False\n",
    "}\n",
    ")\n",
    "chrome_prefs = {}\n",
    "chrome_options.experimental_options[\"prefs\"] = chrome_prefs\n",
    "chrome_prefs[\"profile.default_content_settings\"] = {\"popups\": 1}\n",
    "chrome_options.add_argument(\"--password-store=basic\")\n",
    "chrome_options.add_experimental_option(\n",
    "    \"prefs\",\n",
    "    {\n",
    "        \"credentials_enable_service\": False,\n",
    "        \"profile.password_manager_enabled\": False,\n",
    "    },\n",
    ")\n",
    "chrome_options.add_argument(\"--disable-web-security\")\n",
    "chrome_options.add_experimental_option(\n",
    "    \"excludeSwitches\", [\"enable-automation\"])\n",
    "chrome_options.add_experimental_option('useAutomationExtension', False)\n",
    "chrome_options.add_argument('disable-blink-features=AutomationControlled')\n",
    "chrome_options.add_argument(\n",
    "    'user-agent=\"Mozilla/5.0 (Windows NT 10.0; Win64; x64) AppleWebKit/537.36 (KHTML, like Gecko) Chrome/108.0.0.0 Safari/537.36\"')\n",
    "driver = webdriver.Chrome(\n",
    "    ChromeDriverManager().install(), chrome_options=chrome_options)\n",
    "\n",
    "chrome_options = webdriver.ChromeOptions()\n",
    "prefs = {\"profile.default_content_setting_values.notifications\": 2}\n",
    "chrome_options.add_experimental_option(\"prefs\", prefs)"
   ]
  },
  {
   "cell_type": "code",
   "execution_count": 340,
   "metadata": {},
   "outputs": [
    {
     "name": "stdout",
     "output_type": "stream",
     "text": [
      "['KL / Selangor', 'Johor', 'Kedah / Perlis', 'Kelantan / Terengganu', 'Melaka / N Sembilan', 'Pahang', 'Penang', 'Perak', 'Sabah', 'Sarawak']\n"
     ]
    }
   ],
   "source": [
    "driver.maximize_window()\n",
    "driver.get(\"https://www.tmgeomatics.com.my/TMMap/Default.aspx?ReturnUrl=/TMMap/Default.aspx#\")\n",
    "\n",
    "username = driver.find_element(By.XPATH, \"//input[@id='Login1_UserName']\")\n",
    "username.send_keys(\"******\")\n",
    "sleep(1)\n",
    "password = driver.find_element(By.XPATH, \"//input[@id='Login1_Password']\")\n",
    "password.send_keys(\"*******\")\n",
    "sleep(2)\n",
    "password.send_keys(Keys.RETURN)\n",
    "sleep(4)\n",
    "\n",
    "click_search = driver.find_element(By.XPATH, \"//a[@id='parentSearch']\")\n",
    "click_search.click()\n",
    "# sleep(2)\n",
    "\n",
    "click_network = driver.find_element(By.XPATH, \"//a[@id='lbNwork']\")\n",
    "click_network.click()\n",
    "# sleep(3)\n",
    "\n",
    "i = 0\n",
    "states = []\n",
    "iframes = driver.find_element(By.TAG_NAME,\"iframe\")\n",
    "options = [] * 14\n",
    "stateExchange = []\n",
    "\n",
    "driver.switch_to.frame(iframes)\n",
    "\n",
    "# Get all states in the options\n",
    "try:\n",
    "    el = driver.find_element(By.ID ,'ddNworkState')\n",
    "    for option in el.find_elements(By.TAG_NAME,'option'):\n",
    "        states.append(option.text)\n",
    "    print(states)\n",
    "except NoSuchElementException:\n",
    "    print('Not exist')\n"
   ]
  },
  {
   "cell_type": "code",
   "execution_count": 341,
   "metadata": {},
   "outputs": [],
   "source": [
    "\n",
    "# Get states for KL state\n",
    "try:\n",
    "    el = driver.find_element(By.ID ,'ddExchange')\n",
    "    for option in el.find_elements(By.TAG_NAME,'option'):\n",
    "        options.append(option.text)\n",
    "    stateExchange.append((states[i],options))\n",
    "\n",
    "except NoSuchElementException:\n",
    "    print('Not exist')\n",
    "sleep(2)\n",
    "i += 1\n",
    "options = []\n",
    "options.clear()\n",
    "\n",
    "negeri = None\n",
    "el = None\n"
   ]
  },
  {
   "cell_type": "code",
   "execution_count": 342,
   "metadata": {},
   "outputs": [],
   "source": [
    "# get exchanges from all states\n",
    "count = 9\n",
    "while count > 0:\n",
    "    negeri = states[i]\n",
    "    options.clear()\n",
    "    driver.find_element(By.XPATH, \"//select[@id='ddNworkState']\").click()\n",
    "    \n",
    "    driver.find_element(By.XPATH, f\"//option[contains(text(),'{negeri}')]\").click()\n",
    "    try:\n",
    "        el = driver.find_element(By.ID ,'ddExchange')\n",
    "        for option in el.find_elements(By.TAG_NAME,'option'):\n",
    "            options.append(option.text)\n",
    "        stateExchange.append((states[i],options))\n",
    "    except NoSuchElementException:\n",
    "        print('Not exist')\n",
    "    # sleep(2)\n",
    "    i += 1\n",
    "    options = []\n",
    "    options.clear()\n",
    "    negeri = None\n",
    "    el = None\n",
    "    count -= 1\n",
    "\n"
   ]
  },
  {
   "cell_type": "code",
   "execution_count": 343,
   "metadata": {},
   "outputs": [
    {
     "name": "stdout",
     "output_type": "stream",
     "text": [
      "[('KL / Selangor', ['AWAN (AWANA)', 'BAG (IBUSAWAT BATU ARANG)', 'BAK (BUKIT ANGGERIK)', 'BAT (IBUSAWAT BATU)', 'BB (BATANG BERJUNTAI)', 'BBD (BUKIT BERUNTUNG)', 'BBD2 (IBUSAWAT BUKIT BERUNTUNG)', 'BCG (BUKIT CHANGGANG)', 'BGA (BROGA)', 'BGI (BANGI)', 'BIN (BINTANG)', 'BJL (BUKIT JALIL)', 'BKO (BALAKONG)', 'BLA (BATU LAUT)', 'BMTI (BUKITMELAWATI)', 'BN (BANTING)', 'BNR (BANGSAR)', 'BRA (BUKIT RAJA)', 'BRF (IBUSAWAT BRICKFIELDS)', 'BRG (BERANANG)', 'BRK (BANDAR TUN RAZAK)', 'BUG (BATU TIGA)', 'BUK (BUKIT KEMUNING)', 'CBJ1 (CYBERJAYA1)', 'CBJ2 (CBJ2)', 'CBJ2 (CYBER JAYA2)', 'CRS (CHERAS)', 'CSF (CSF COMPUTER EXCHANGE)', 'DK (DENGKIL(L))', 'DK (DENGKIL(B))', 'DK (PUJ4)', 'DK (DENGKIL(L))', 'DK (DENGKIL(B))', 'DM (DAMANSARA)', 'DTA (DUTA)', 'GBK (IBUSAWAT GOMBAK)', 'GT (IBUSAWAT GENTING)', 'IJK (IJOK)', 'JKN (JALAN KEBUN)', 'JLT (ANDALAS)', 'JM (JENJARUM)', 'JRA (JUGRA)', 'KA (KAPAR)', 'KE (KEPONG)', 'KIN (KINRARA)', 'KJ (KAJANG)', 'KKB (IBUSAWAT KUALA KUBU BARU)', 'KLC (JALAN RAJA CHULAN)', 'KLC (KLC2)', 'KLC (KLC3)', 'KLC (KUALA LUMPUR CENTRAL)', 'KLC (AIMS)', 'KLG (KLANG)', 'KLIA (KLIA)', 'KLIA (KLIA)', 'KLJ (KELANA JAYA)', 'KMTH (TAR/KMT 999-056)', 'KNG (IBUSAWAT KUNDANG)', 'KOG (IBUSAWAT KALUMPANG)', 'KPU (KUALA PAUH)', 'KRG (IBUSAWAT KERLING)', 'KRT (IBUSAWAT KERAMAT)', 'KS (KUALA SELANGOR)', 'KSO (KAMPONG SOEHARTO)', 'KUG (IBUSAWAT KUANG)', 'LTS (LAPANGAN TERBANG SUBANG)', 'MARS (EAST)', 'MARS (SGMA)', 'MDH (TAMAN MIDAH)', 'MRB (MORIB)', 'MRI (IBUSAWAT TAMAN MALURI)', 'MRU (MERU)', 'MTI (IBUSAWAT MELAWATI)', 'MTM (MENARA TELEKOM MALAYSIA)', 'MYCJ (MYTV CYBERJAYA)', 'PAN (PANDAN EXCH)', 'PCG (PUCHONG)', 'PCG (PUCHONG EXCH)', 'PCR (WEST)', 'PCR (SOUTH)', 'PCR (NORTH)', 'PEG (PEKELILING)', 'PID (PULAU INDAH)', 'PJC (PETALING JAYA CENTRAL)', 'PKG (PELABUHAN KLANG)', 'PKM (PULAU KETAM)', 'PUIN (PULAU INDAH (ANDAIAN))', 'PUJ1 (PUTRA JAYA 1)', 'PUJ2 (PUTRA JAYA 2)', 'PUJ3 (PUJ3)', 'RA (IBUSAWAT RASA)', 'RG (IBUSAWAT RAWANG)', 'SAG (SAGA)', 'SAL (SHAH ALAM)', 'SAT (SUNGAI AIR TAWAR)', 'SBJ (SUBANG JAYA)', 'SBR (SUNGAI BESAR)', 'SBS (SUNGAI BESI)', 'SBY (IBUSAWAT SUNGAI BUAYA)', 'SDG (SERDANG)', 'SDH (IBUSAWAT SERENDAH)', 'SEK (SEKINCHAN)', 'SET (IBUSAWAT SETAPAK LAMA)', 'SET (IBUSAWAT SETAPAK)', 'SGB (IBUSAWAT SUNGAI BULOH)', 'SIL (SUNGAI LONG)', 'SKT (SALAK TINGGI)', 'SKU (SELAT KELANG UTARA)', 'SLB (IBUSAWAT SELAYANG BARU)', 'SM (SABAK BERNAM)', 'SMK (SEMARAK)', 'SPE (SAN PENG)', 'SPG (IBUSAWAT SUNGAI PLONG)', 'SPK (SUNGAI PELEK)', 'SRG (SUNGAI RENGGAM)', 'SSN (SASARAN)', 'STA (SEMENTA)', 'STI (IBUSAWAT SUNGAI TENGI)', 'STL (IBUSAWAT SENTUL)', 'SWY (SUNGAI WAY)', 'SY (SEMENYIH)', 'TAG (TASIK AMPANG)', 'TAG (BANDAR BARU AMPANG)', 'TAR (TUNKU ABDUL RAHMAN)', 'TDI (TAMAN TUN DR. ISMAIL)', 'TGG (TELUK GONG)', 'TJK (TANJUNG KARANG)', 'TJS (TANJUNG SEPAT)', 'TNP (TAMAN PETALING)', 'TPG (TELUK PANGLIMA GARANG)', 'ULT (HULU LANGAT)', 'USJ (UNITED SEAFIELD JAYA)', 'USJ1 (CABIN)', 'UYM (IBUSAWAT ULU YAM)', 'WMU (IBUSAWAT WANGSA MAJU)']), ('Johor', ['AB (AIR BALOI)', 'ABN (AIR BEMBAN)', 'AH (IBUSAWAT AIR HITAM)', 'APG (APING)', 'ARP (AIR PANAS)', 'ATL (AIR TAWAR LIMA)', 'ATT (AIR TAWAR TIGA)', 'BAM (BATU ANAM)', 'BBL (IBUSAWAT BANDAR BARU GUNUNG)', 'BBT (BUKIT BATU)', 'BEM (BANDAR MAS)', 'BGR (I/SAWAT BKT GAMBIR)', 'BID (TM BUKIT INDAH)', 'BKG (BUKIT KEPONG)', 'BKK (EXCH BEKOK)', 'BKP (BULOH KASAP)', 'BKR (IBUSAWAT BAKRI)', 'BP (BATU PAHAT)', 'BP (BATU PAHAT)', 'BRCS (BATAM RENGIT SKDL)', 'BSG (BUKIT SENING)', 'BSR (BUKIT BESAR)', 'BTR (IBUSAWAT BUKIT PASIR)', 'BUE (BUKIT EASTER)', 'BUT (BENUT)', 'CA (IBUSAWAT CHAAH)', 'EU (IBUSAWAT ENDAU)', 'FBP (IBUSAWAT FELDA BUKIT PERMAI)', 'FCB (FELDA CAHAYA BARU)', 'FKS (FELDA KEMELAH)', 'FKT (IBUSAWAT FELDA KAHANG TIMUR)', 'FML (FELDA MAOKIL)', 'FNR (IBUSAWAT FELDA NITAR)', 'FPS (FELDA PEMANIS)', 'FRD (FELDA REDONG)', 'FTA (FELDA TAIB ANDAK)', 'FTD (IBUSAWAT FELDA TENGGAROH 2/4)', 'FUB (IBUSAWAT FELDA U.BELITONG)', 'FUT (FELDA ULU TEBRAU)', 'GH (NUSAJAYA DATA CENTER)', 'GH (GELANG PATAH)', 'GH (MEDINI)', 'GLD (GUNUNG LEDANG)', 'GNG (GENUANG)', 'JB (JOHOR BAHRU)', 'JMG (IBUSAWAT JEMALUANG)', 'JMH (JEMENTAH)', 'KAP (KAYU ARA PASONG)', 'KBL (KG. BARU LENGA)', 'KC (KUKUP)', 'KGJ (IBUSAWAT KAMPUNG GAJAH)', 'KGP (KANGKAR PULAI)', 'KHG (IBUSAWAT KAHANG)', 'KLI (KULAI)', 'KPE (IBUSAWAT KPE)', 'KPI (KG.PARIT YAANI)', 'KPR (KG. PARIT RAJA)', 'KRB (KANGKAR BARU)', 'KSL (IBUSAWAT KG.SIMPANG LIMA)', 'KSS (SUNGAI SULOH)', 'KST (KELAPA SAWIT)', 'KTG (KOTA TINGGI)', 'KU (KLUANG)', 'KV (KUALA SEDILI)', 'LB (FELDA CEMPELAK)', 'LB (IBUSAWAT LABIS)', 'LGU (LINGGIU)', 'LHG (LOK HENG)', 'LL (IBUSAWAT LAYANG-LAYANG)', 'MCP (IBUSAWAT MACHAP)', 'ME (IBUSAWAT MERSING)', 'MECS (MERSING SKDL)', 'MUR (MUAR)', 'NYR (NYIOR)', 'PAB (IBUSAWAT PARIT BAKAR)', 'PBE (IBUSAWAT PARIT BETAK)', 'PBK (PARIT BOTAK)', 'PGD (PASIR GUDANG)', 'PGG (PENGGERANG)', 'PGH (PAGOH)', 'PGI (PELANGI)', 'PN (PANDAN)', 'PNS (PEKAN NENAS)', 'PNW (PENAWAR)', 'PO (IBUSAWAT PALOH)', 'PRM (PERMAS)', 'PRN (PANCHUR)', 'PT (PARIT SULONG)', 'PTJ (IBUSAWAT PARIT JAWA)', 'PTN (PONTIAN)', 'PTR (IBUSAWAT PARIT RAJA)', 'PTU (TANJUNG PUTERI)', 'RE (IBUSAWAT RENGIT)', 'RGM (IBUSAWAT RENGGAM)', 'SC (SKUDAI)', 'SGG (SRI GADING)', 'SGT (SEGAMAT)', 'SJ (IBUSAWAT SAGIL)', 'SLD (SRI LEDANG)', 'SLL (SRI LALANG)', 'SMD (SRI MEDAN)', 'SME (IBUSAWAT SRI MENANTI)', 'SMR (IBUSAWAT SEMERAH)', 'SMT (SUNGAI MATI)', 'SNG (SENGGARANG)', 'SNI (SENAI)', 'SRM (IBUSAWAT SIMPANG RENGGAM)', 'SRS (IBUSAWAT SEBANA RESORT)', 'SRS (SRI SULONG)', 'ST (SUNGAI RENGIT)', 'TDC (TMN DESA CEMERLANG)', 'TDJ (TAMAN DAMAI JAYA)', 'TGA (BANDAR TENGGARA)', 'TGK (TANGKAK)', 'TI (TIRAM)', 'TKS (TELUK SENGAT)', 'TKU (TG. KUPANG)', 'TMH (IBUSAWAT TAMAN MUHIBBAH)', 'TMP (TAMPOI)', 'TOP (TONGKANG PECAH)', 'TPE (TMN PERLING)', 'TQ (TENANG)', 'TUV (TAMAN UNIVERSITI)', 'YP (YONG PENG)']), ('Kedah / Perlis', ['AHK (IBUSAWAT AIR HITAM)', 'AS (IBUSAWAT ALOR SETAR)', 'ASS (ALOR SETAR SELATAN)', 'ASSFCN (ALOR STAR FIBRECOMM)', 'AU (ARAU)', 'BAA (IBUSAWAT BAKAR ARANG)', 'BES (BESERI)', 'BKH (IBUSAWAT BUKIT KAYU HITAM)', 'BKHJ701 (A)', 'BKHJ702 (A)', 'BL (IBUSAWAT BALING)', 'BPN (BUKIT PALONG)', 'BSE (IBUSAWAT BUKIT SELAMBAU)', 'BZ (BEDONG)', 'CHP (IBUSAWAT CHUPING)', 'CN (CHANGLUN)', 'GJL (GUNUNG JERAI LOWER)', 'GN (IBUSAWAT GURUN)', 'GRA (GUNUNG RAYA)', 'JG (JENIANG)', 'JI (JITRA)', 'JJG (IBUSAWAT JUNJONG)', 'KBT (KAKI BUKIT)', 'KKD (IBUSAWAT KUALA KEDAH)', 'KKM (KOTA KUALA MUDA)', 'KKN (IBUSAWAT KUALA NERANG)', 'KKS (KOTA SARANG SEMUT)', 'KLN (IBUSAWAT KAMPUNG LALANG)', 'KM (IBUSAWAT KULIM)', 'KMH (IBUSAWAT KULIM HI-TECH)', 'KMI (KULIM INDUSTRI)', 'KOB (SUNGAI KOB)', 'KPJ (IBUSAWAT KUBUR PANJANG)', 'KPS (IBUSAWAT KUALA PERLIS)', 'KTMPZ (KTMPZ)', 'KUH (KUAH)', 'KUP (KUPANG)', 'KX (KUALA KETIL)', 'KZ (IBUSAWAT KANGAR)', 'LBM (IBUSAWAT LUBUK MERBAU)', 'LCDK (LCDK)', 'LGR (IBUSAWAT LANGGAR)', 'LS (LUNAS)', 'MARSLC (MARS LUBUK CEMPEDAK)', 'MARSPDB (MARS PULAU DAYANG BUNTING)', 'MBK (MERBUK)', 'MHG (IBUSAWAT MAHANG)', 'MLAU (IBUSAWAT MALAU)', 'NKA (IBUSAWAT NAKA)', 'NKA (NAKA)', 'PAA (IBUSAWAT PADANG ABDUL AZIZ)', 'PDG (PENDANG)', 'PEDA (IBUSAWAT PEDU)', 'PGL (IBUSAWAT PADANG LALANG)', 'PHU (PENGKALAN HULU)', 'PKS (POKOK SENA)', 'PMT (PADANG MAT SIRAT)', 'PRBR (PRBR)', 'PSE (IBUSAWAT PADANG SERA)', 'PX (PADANG SERAI)', 'PXH (PADANG SERAI H)', 'PZ (PADANG BESAR)', 'PZJ701 (A)', 'PZJ702 (1)', 'RIA (RIA JAYA)', 'SAM (SIMPANG EMPAT)', 'SAP (SIMPANG EMPAT)', 'SIA (SUNGAI TIANG)', 'SIK (SIK)', 'SP (SUNGAI PETANI)', 'SR (IBUSAWAT SERDANG)', 'THPBKH01 (POI BKH THAI BORDER)', 'TJN (IBUSAWAT TUNJANG)', 'TMU (TIKAM BATU)', 'TUBA (TUBA)', 'WENG (IBUSAWAT WENG)', 'YN (YAN)']), ('Kelantan / Terengganu', ['AJH (AIR JERNIH)', 'AJH (AIR JERNIH)', 'AJI (AJIL)', 'AL (AIR LANAS)', 'AMS (ALMUKTAFI BILAH SHAH)', 'BBG (BUKIT BADING)', 'BBR (BUKIT BAKAR)', 'BBS (BUKIT BESAR)', 'BCK (BACHOK)', 'BEC (BECAH LAUT)', 'BGK (BATU GAJAH)', 'BJH (BANGGOL JUDAH)', 'BKGH (KG BUKIT GEMUROH)', 'BKI (BUKIT BESI)', 'BMG (BATU MELINTANG)', 'BMN (LIMAU PURUT)', 'BMN (BATU MENGKEBANG)', 'BPI (BANDAR PERMAISURI)', 'BRT (BATU RAKIT)', 'BUP (BUKIT PAYONG)', 'CDG (CHENDERING)', 'CEN (CENEH)', 'CEN (CENEH)', 'CIU (CHIKU)', 'CKI (CUKAI)', 'CRL (CERUL)', 'CRU (CHERANG RUKU)', 'DN (DUNGUN)', 'FCBT (CHALOK BARAT)', 'FDBA (FELDA BELARA)', 'GBD (GONG BADAK)', 'GBD (GONG BADAK)', 'GGA (GELIGA)', 'GMU (GUA MUSANG)', 'IPKTM (PEJABAT KAWASAN TIMUR)', 'JBBK (JAMBU BONGKOK)', 'JBI (JABI)', 'JEGR (JENAGOR)', 'JER (JEREK)', 'JH (JERTEH)', 'JLI (JELI)', 'JLW (JELAWANG)', 'JRG (JERANGAU)', 'KBE (KUALA BESUT)', 'KBH (KUALA BALAH)', 'KBR (KUALA BERANG)', 'KFR (KG FIKRI)', 'KGEH (KG GEMUROH)', 'KGGB (KG GONG BATU)', 'KGRM (KG RAHMAT)', 'KIRE (KIJAL RESORT)', 'KJA (KETENGAH JAYA)', 'KJAL (KIJAL)', 'KKJ (KUALA JENGAL)', 'KKR (KERUAK)', 'KKT (KG KUALA TELEMONG)', 'KLK (KAMPUNG LALOH)', 'KLPT (KG LANGKAP)', 'KLT (KAMPUNG LAUT)', 'KMK (KEMASIK)', 'KO (KOTA BHARU)', 'KOK (KOK LANAS)', 'KPNK (PENARIK)', 'KQ (KUALA KRAI)', 'KRA (KG.RAJA)', 'KSH (KG. SHUKUR)', 'KTES (KG TERIS)', 'KTH (KERTEH)', 'KTMG (MATANG)', 'KUB (KUALA BESAR)', 'KUK (KUBANG KERIAN)', 'KWA (KG WA)', 'LJG (LOJING)', 'MA (MARANG)', 'MAG (MACHANG)', 'MAN (MANIR)', 'MER (MERANG)', 'MERG (MERAGA)', 'MKUI (MANEK URAI)', 'MLR (MELOR)', 'MND (MINDA)', 'MNT (MERANTI)', 'MRC (MERCHANG)', 'MUI (MANEK URAI)', 'NPU (NILAM PURI)', 'PCO (PULAI CHONDONG)', 'PGK (PADANG KUBU)', 'PHN (PHN)', 'PHN (PULAU PERHENTIAN)', 'PK (PAKA)', 'PKC (PENGKALAN CHEPA)', 'PKGA (PULAU KERENGGA)', 'PKU (PENGKALAN KUBUR)', 'PM (PASIR MAS)', 'PP (PASIR PUTEH)', 'PST (PASIR TINGGI)', 'PUG (TM SATU REDANG)', 'RPEK (REPEK)', 'RTAG (RANTAU ABANG)', 'RTP (RANTAU PANJANG)', 'SAO (SALOR)', 'SBI (SRI BANDI)', 'SGW (SUNGAI GAWI)', 'SSG (SELISING)', 'TAM (TANAH MERAH)', 'TBAK (TEBAK)', 'TEL (TELEKONG)', 'TG (HILIRAN)', 'TGJA (TANJUNG JARA)', 'TGN (TEMANGAN)', 'TKWG (TENGKAWANG)', 'TLG (TELOK KALONG)', 'TNG (TENANG)', 'TOG (SG TONG)', 'TU (TUMPAT)', 'TUN (TOK UBAN)', 'TWG (TAWANG2)', 'TWG (TAWANG)', 'WBU (WAKAF BHARU)', 'WTI (WAKAF TAPAI)']), ('Melaka / N Sembilan', ['ABU (AMPANG BATU)', 'AG (ALOR GAJAH)', 'AHN (IBUSAWAT AIR HITAM)', 'AKG (IBUSAWAT AIR KUNING)', 'AKH (AYER KEROH)', 'AMK (AIR MOLEK)', 'AN (ASAHAN)', 'BBA (BEMBAN)', 'BBM (BATU BERENDAM)', 'BH (IBUSAWAT BAHAU)', 'BIR (BATU KIKIR)', 'BTK (BUKIT TERENDAK)', 'BTM (IBUSAWAT BERTAM)', 'BUS (BANDAR UTAMA SEREMBAN)', 'BX (IBUSAWAT BATANG MELAKA)', 'CIN (CHIN CHIN)', 'CUH (CHUAH)', 'DT (DURIAN TUNGGAL)', 'FSH (IBUSAWAT PASOH 1&4)', 'FSN (IBUSAWAT FELDA SENDAYAN)', 'FSO (IBUSAWAT PASOH 2&3)', 'GCH (IBUSAWAT GEMENCHEH)', 'GS (IBUSAWAT GEMAS)', 'JAI (IBUSAWAT JELAI)', 'JL (IBUSAWAT JOHOL)', 'JN (JASIN)', 'KEL (KLEBANG)', 'KES (IBUSAWAT KEPIS)', 'KF (IBUSAWAT KUALA KLAWANG)', 'KP (KUALA PILAH)', 'KPH (BUKIT KUALA PILAH)', 'KSB (KUALA SUNGAI BARU)', 'KTA (IBUSAWAT KOTA)', 'LBU (IBUSAWAT LABU)', 'LCA (LUBOK CINA)', 'LGI (IBUSAWAT LINGGI)', 'LGS (LADANG GEDDES)', 'LMA (IBUSAWAT LUI MUDA)', 'LUK (LUKUT)', 'MAM (IBUSAWAT MALIM)', 'MC (MELAKA)', 'MCCS (MELAKA SKDL)', 'MJ (MASJID TANAH)', 'ML (MERLIMAU)', 'MN (IBUSAWAT MANTIN)', 'NL (IBUSAWAT NILAI)', 'NLS (NYALAS)', 'PAT (PALONG TIGA)', 'PD (IBUSAWAT PORT DICKSON (BARU))', 'PD (IBUSAWAT PORT DICKSON (LAMA))', 'PLD (FELDA PALONG DUA)', 'PLL (PALONG 8)', 'PLM (IBUSAWAT PALONG LIMA)', 'PLS (IBUSAWAT PALONG SATU)', 'PPJ (IBUSAWAT PASIR PANJANG)', 'PTG (IBUSAWAT PERTANG)', 'PTS (PEJABAT TELEKOM SELATAN)', 'RBA (RUMBIA)', 'RN (IBUSAWAT ROMPIN)', 'RSH (RASAH)', 'RT (IBUSAWAT RANTAU)', 'RU (IBUSAWAT REMBAU)', 'SAR (SELANDAR)', 'SDN (IBUSAWAT SIMPANG DURIAN)', 'SEM (SIMPANG EMPAT)', 'SHR (IBUSAWAT SERTING HILIR)', 'SMI (IBUSAWAT SRI MERANTI)', 'SN (SEREMBAN)', 'SNW (IBUSAWAT SENAWANG)', 'SPT (IBUSAWAT SIMPANG PERTANG)', 'SRI (SUNGAI RAMBAI)', 'SRT (IBUSAWAT SERTING)', 'SX (IBUSAWAT SEPANG)', 'TB (TEBONG)', 'TCI (IBUSAWAT TERACHI)', 'TGB (TANGGA BATU)', 'TKK (IBUSAWAT TELUK KEMANG)', 'TN (TAMPIN)', 'TV (IBUSAWAT TITI)', 'UBI (UMBAI)']), ('Pahang', ['AAR (ALOR AKAR)', 'BDR (BUKIT DAMAR)', 'BDSU (BANDAR 21 (BDSU))', 'BE (BENTONG(BE))', 'BEN (BENTA (BEN))', 'BER (BERA (BER))', 'BGH (BUKIT GOH (BGH))', 'BIA (IBUSAWAT BANDAR INDERA MAHKOTA)', 'BIA (KUANTAN)', 'BIA (BANDAR INDERA MAHKOTA)', 'BIA (BIA)', 'BIM (BUKIT IBAM (BIM))', 'BKS (BUKIT SAGU)', 'BLV (LURAH BILUT)', 'BME (BUKIT MENDI (BME))', 'BMS (BANDAR MUADZAM SHAH (BMS))', 'BPJ (BUKIT PENINJAU)', 'BRS (BRS)', 'BRS (***)', 'BSH (BESERAH (BSH))', 'BTA (BANDAR TUN RAZAK (BTA))', 'BTT (BUKIT TINGGI(BTT))', 'CHD (CENDERAWASIH)', 'CHECS (CHERATING SKDL)', 'CMI (CHEMOMOI)', 'CNI (CHINI (CNI))', 'CRO (CHEROH (CRO))', 'CTG (CHERATING (CTG))', 'DAD (DAD)', 'DG (DONG (DG))', 'DMAK (DAMAK(DMAK))', 'EURN (ENDAU ROMPIN)', 'FBBA (MARS BOHOR BARU(FBBA))', 'FDJR (FELDA JABOR(FDJR))', 'FDMA (FELDA MEMPAGA(FDMA)-MARS)', 'FDNM (FELDA NERAM ( FDNM ))', 'FDSK (FELDA SERTIK)', 'FH (FRASER HILL (FH))', 'FLCT (FELDA CHINI TIMUR (FLCT))', 'FLHD (FELDA LEPAR HILIR DUA)', 'FLHT (LEPAR HILIR TIGA ( FLHT ))', 'FSLD (FELDA SELENDANG)', 'FSLR (FELDA SELANCAR (FSLR))', 'GB (GAMBANG ( GB ))', 'GB (GAMBANG (GB))', 'GDE (KOTA GELANGGI 2/4 (GDE))', 'GEB (GEBENG)', 'GSTA (KOTA GELANGGI 1/3 (GSTA))', 'JBK (JANDA BAIK)', 'JDD (JENGKA 22)', 'JDET (JENGKA 24)', 'JDUA (JENDERAK UTARA)', 'JEN (JENGKA 6 (JEN))', 'JK (JENGKA (JK))', 'JKD (JENGKA DUA)', 'JKDP (JENGKA 20)', 'JKL (JENGKA LAPAN)', 'JKS (JENGKA SATU)', 'JLB (JENGKA 18)', 'JT (JERANTUT (JT))', 'JTB (JENGKA 13 (JTB))', 'KAK (KARAK (KAK))', 'KAW (KAMPUNG AWAH ( KAW ))', 'KBZ (KBZ)', 'KCH (KCH)', 'KCN (KAMPUNG CHENOR (KCN))', 'KDU (KERDAU ( KDU ))', 'KGBP (KG. BATU PAPAN)', 'KGJR (KAMPUNG JAMBU RIAS (KGJR))', 'KGLC (KG LEBAN CONDONG (KGLC))', 'KGPB (KG. PAYA BUNGOR)', 'KGPC (KG.PANCHING (KGPC))', 'KGPH (KG. PALOH HINAI (KGPH))', 'KGPP (KAMPUNG PADANG PIOL)', 'KGSG (KG. SALONG (KGSG))', 'KGSR (KAMPUNG SUNGAI RETANG)', 'KI (KUALA LIPIS)', 'KKU (KUALA KRAU ( KKU ))', 'KMS (KMS)', 'KND (KG. NEW ZEALAND (KND))', 'KPG (KAMPUNG GENTING)', 'KPRB (KG PADANG RUMBIA (KPRB))', 'KRP (KUALA ROMPIN (KRP))', 'KRP 2 (KUALA ROMPIN (UNIT 2))', 'KSG (KG.SALONG(KSG))', 'KTBL (KUALA TEMBELING)', 'KUA (KUALA PAHANG (KUA))', 'KUM (FELDA KUMAI (KUM))', 'KYN (IBUSAWAT KEMAYAN (KYN))', 'LAB (LADANG ESPEK RISDA BERA)', 'LC (LANCHANG)', 'LEU (LEPAR UTARA (LEU))', 'LHRS (LEPAR HILIR 1( LHRS ))', 'LKU (LEMBAH KLAU)', 'MEC (MEC CITY)', 'MEL (MEL)', 'MK (MENGKARAK ( MK ))', 'MKG (IBUSAWAT MENGKUANG (MKG))', 'MRN (MARAN (MRN))', 'MRT (MRT)', 'MT (MENTAKAB)', 'NEN (NENASI (NEN))', 'PAK (PAK)', 'PBR (PAYA BESAR)', 'PDR (PADANG RUMBIA)', 'PE (PEKAN (PE))', 'PEDI (PERANTAU DAMAI (PEDI))', 'PGB (PERMATANG BADAK (PGB ))', 'PGT (PADANG TENGKU)', 'PHI (KG.PALOH HINAI(PHI))', 'PJM (PENJOM (PJM))', 'PLGR (PANTAI LANJUT GOLF RESORT)', 'PPI (PAYA PULAI (PPI))', 'PRU (PERAMU)', 'PUN (PURUN ( PUN ))', 'PWJA (PERWIRA JAYA (PWJA))', 'RB (IBUSAWAT RAUB ( RB ))', 'SAA (KG. SALANG)', 'SGM (IBUSAWAT (SGM))', 'SGUL (SUNGAI ULAR)', 'SJK (SUNGAI JEREK (SJK))', 'SKY (SUNGAI KOYAN)', 'SL (SUNGAI LEMBING (SL))', 'SPC (FELDA SUNGAI PANCHING)', 'SPL (SIMPANG PELANGAI(SPL))', 'SRE (SRE)', 'SRU (SUNGAI RUAN)', 'STMU (SUNGAI TEMAU)', 'TC (TRIANG ( TC ))', 'TEE (KG TEKEK)', 'TL (TEMERLOH (TL))', 'TLR (TANJUNG LUMPUR (TLR))', 'TMG (TELEMONG (TMG))', 'TRM (TERUNTUM UNIT 2)', 'TRM2 (TERUNTUM 2)', 'TRM2 (TERUNTUM 1)', 'TX (TRAS (TX))', 'UJL (MARS ULU JEMPOL (UJL))', 'ULU (ULU SUNGAI)', 'UTT (ULU TAT)']), ('Penang', ['AIM (AIR ITAM)', 'BF (BATU FERINGGHI)', 'BI (BALIK PULAU)', 'BM (BUKIT MERTAJAM)', 'BMU (BATU MAUNG)', 'BTH (BUKIT TENGAH)', 'BW (BUTTERWORTH)', 'BYB (BAYAN BARU)', 'GLR (GELUGOR)', 'GPU (GUAR PERAHU)', 'GPU 2 (GUAR PERAHU(2))', 'JTG (JELUTONG)', 'KAC (SUNGAI ACHEH)', 'KBS (KEPALA BATAS)', 'KMA (KUALA MUDA)', 'KMA3 (KUALA MUDA)', 'KMACS (KUALA MUDA SKDL)', 'KMR (KOMTAR)', 'MGB (MACANG BUBUK)', 'NT (NIBONG TEBAL)', 'PG (PENANG)', 'PJJ (PULAU JERJAK)', 'SGD (SUNGAI DUA)', 'SI (SUNGAI BAKAP)', 'SJA (SEBERANG JAYA)', 'SJA2 (SEBERANG JAYA 2)', 'SZ (SIMPANG AMPAT)', 'TAT (TELUK AIR TAWAR)', 'TGR (TASEK GELUGOR)', 'TJB (TANJUNG BUNGAH)', 'TKB (TELUK BAHANG)', 'TKR (TELUK KUMBAR)']), ('Perak', ['AKA (IBUSAWAT AIR KALA)', 'AKN (IBUSAWAT AIR KUNING)', 'AT (IBUSAWAT AYER TAWAR)', 'BCH (GUNUNG BRINCHANG)', 'BCM (BERCHAM)', 'BD (IBUSAWAT BIDOR)', 'BG (IBUSAWAT BATU GAJAH)', 'BGG (IBUSAWAT BUKIT GANTANG)', 'BGP (IBUSAWAT BAGAN PASIR)', 'BHG (IBUSAWAT BEHRANG)', 'BKU (IBUSAWAT BATU KURAU)', 'BLRT (IBUSAWAT BUKIT LARUT)', 'BO (IBUSAWAT BAGAN DATOH)', 'BOES (BOH ESTATE)', 'BOU (BESOUT)', 'BR (IBUSAWAT BRUAS)', 'BS (BAGAN SERAI)', 'BS (IBUSAWAT BAGAN SERAI)', 'BUDN (IBUSAWAT BATU UNDAN)', 'BV (IBUSAWAT BOTA)', 'CBI (IBUSAWAT CHENDERONG BALAI)', 'CDR (IBUSAWAT CHENDERONG)', 'CH (CAMERON HIGHLANDS)', 'CJO (CHANGKAT JONG)', 'CR (IBUSAWAT CHEMOR)', 'CRG (IBUSAWAT CHENDERIANG)', 'CSM (IBUSAWAT COLD STREAM)', 'CTK (IBUSAWAT CHANGKAT KRUING)', 'DCENTRE (IT-SSB DATA CENTRE)', 'ER (IBUSAWAT ENGGOR)', 'GG (IBUSAWAT GOPENG)', 'GK (IBUSAWAT GRIK)', 'GLG (IBUSAWAT GUNUNG LANG)', 'GRT (GUNUNG RAPAT)', 'GRT (GUNUNG RAPAT)', 'HM (IBUSAWAT HUTAN MELINTANG)', 'IJO (IBUSAWAT IJOK)', 'IP (IBUSAWAT IPOH)', 'JLP (IBUSAWAT JELAPANG)', 'KCKN (IBUSAWAT CHUPING KANAN)', 'KDB (IBUSAWAT KAMPUNG BATU 12)', 'KGH (KG GAJAH)', 'KGLS (IBUSAWAT LENGKUAS)', 'KGR (IBUSAWAT KAMPUNG RAJA)', 'KK (IBUSAWAT KUALA KANGSAR)', 'KMT (KAMUNTING)', 'KR (KAMPAR)', 'KSP (IBUSAWAT KUALA SEPETANG)', 'KTS (IBUSAWAT KAMPUNG TAWAS)', 'KW (KUALA KURAU)', 'LGN (IBUSAWAT LENGGONG)', 'LIN (IBUSAWAT LINTANG)', 'LKI (IBUSAWAT LIMAN KATI)', 'LKR (IBUSAWAT LEKIR)', 'LP (IBUSAWAT LANGKAP)', 'LT (IBUSAWAT LUMUT)', 'LUIE (IBUSAWAT MRS LADANG UIE)', 'MLU (IBUSAWAT MENGLEMBU)', 'MNG (IBUSAWAT MANONG)', 'MW (IBUSAWAT MALIM NAWAR)', 'PA (IBUSAWAT PARIT)', 'PB (PARIT BUNTAR)', 'PGS (IBUSAWAT PADANG RENGAS)', 'PI (IBUSAWAT PUSING)', 'PKR (PANGKOR)', 'PPHM (IBUSAWAT PULAU PASIR HITAM)', 'PPP (IBUSAWAT PASIR PUTEH)', 'PR (IBUSAWAT PANTAI REMIS)', 'PRLT (PRLT)', 'PSBR (IBUSAWAT KUALA SANGGA)', 'PUL (IBUSAWAT PULAI)', 'RL (IBUSAWAT RINGLET)', 'SA (IBUSAWAT SELAMA)', 'SERG (IBUSAWAT SUNGAI ERONG)', 'SGL (IBUSAWAT SEMANGGOL)', 'SIM (SIMPANG U2)', 'SIM2 (SIMPANG 2)', 'SIMU2 (SIMPANG)', 'SIMU3 (SIMPANG U3)', 'SIR (IBUSAWAT SRI ISKANDAR)', 'SK (IBUSAWAT SUNGKAI)', 'SLI (IBUSAWAT SLIM RIVER)', 'SMJ (IBUSAWAT SRI MANJUNG)', 'SNR (IBUSAWAT SUNGAI NYIOR)', 'SO (IBUSAWAT SAUK)', 'SRL (IBUSAWAT SUNGAI RELONG)', 'SRP (IBUSAWAT SEBERANG PERAK)', 'SS (IBUSAWAT SUNGAI SIPUT)', 'SS1 (IBUSAWAT SUNGAI SAMAK)', 'SW (SITIAWAN)', 'TBRU (IBUSAWAT TELUK BAHRU)', 'TE (IBUSAWAT TEMOH)', 'TH (IBUSAWAT TAPAH)', 'TIN (TELUK INTAN)', 'TJP (IBUSAWAT TANJUNG PIANDANG)', 'TJR (IBUSAWAT TANJUNG RAMBUTAN)', 'TLK (IBUSAWAT TROLAK)', 'TLKH (TROLAK HILL)', 'TM (IBUSAWAT TANJUNG MALIM)', 'TO (IBUSAWAT TRONOH)', 'TP (TAIPING)', 'TRP (TRINGKAP)', 'TSK (IBUSAWAT TASEK)', 'TT (IBUSAWAT TANJUNG TUALANG)', 'TZ (IBUSAWAT TRONG)', 'UB (ULU BERNAM)', 'UBSR (ULU BASIR (MARS))']), ('Sabah', ['AJP (ANJUNG PARIS)', 'ALB (GUNUNG ALAB)', 'APS (APAS)', 'BAL (BALUNG)', 'BFT (BEAUFORT)', 'BGO (BONGKOL)', 'BIK (IBUSAWAT BINGKOR)', 'BKT (BUKIT TIGA)', 'BKTG (BUKIT KARATONG)', 'BLK (BLK)', 'BLN (BELURAN EXCHANGE)', 'BND (DANDUN)', 'BSI (IBUSAWAT BSI)', 'BWN (IBUSAWAT BONGAWAN)', 'EBIS (ENUBAI SAGA)', 'ERA (ELOPURA)', 'FSB (SAHABAT)', 'INM (INANAM EXCH)', 'JBT (JBKT)', 'KBD (IBUSAWAT KOTA BELUD)', 'KBSK (MARS KBSK)', 'KBU (KBU3)', 'KBU (KBU2)', 'KDS (KUNDASANG)', 'KDT (PITAS)', 'KDT (IBUSAWAT KUDAT)', 'KGAU (MARS KG GAUR)', 'KGU (KENINGAU EXCHANGE)', 'KIT (KINARUT EXCH)', 'KKI (KOTA KINABATANGAN)', 'KKIN (MARS KG KINASARABAN)', 'KLP (BUKIT KELAPA)', 'KLV (KALABAKAN)', 'KLWT (MARS KLWT)', 'KMTP (KG MATUPANG)', 'KMU (IBUSAWAT KOTA MARUDU)', 'KNK (KUNAK EXCHANGE)', 'KNO (KANIBONGAN)', 'KOY (KG KOYAH)', 'KPY (KUALA PENYU CABIN)', 'KPZ (KG PARIS)', 'KRN (KARUKAN)', 'KSPI (KUALA SAPI)', 'KTAS (MARS KG.TASS)', 'LBK (IBUSAWAT LABUK)', 'LBN (IBUSAWAT LABUAN)', 'LDS (LDS)', 'LDSB (MARS LADANG SABAH)', 'LHD (LAHAD DATU EXCH)', 'LLN (IBUSAWAT LAYANG-LAYANGAN)', 'LUA (LUA)', 'M36 (TM MILE 36)', 'M86 (TM EXCH MILE 86)', 'MBT (IBUSAWAT MEMBAKUT)', 'MGL (MENGGATAL EXCH)', 'MLB (MALIAU BASIN)', 'MNK (MENUMBUK)', 'MOT (MEROTAI)', 'NBN (NABAWAN)', 'NYN (IBUSAWAT NUNUYAN)', 'PEST (MARS PAMOL)', 'PFHW (PASIFIC HARDWOOD)', 'PIS (PITAS)', 'PPG (PENAMPANG)', 'PPR (PAPAR)', 'PTT (PUTATAN)', 'QHIL (MARS QUOIN HILL)', 'RNU (IBUSAWAT RANAU)', 'SEGM (SEGAMA)', 'SFI (SABAH FOREST INDUSTRIES)', 'SGA (SIBUGA)', 'SIG (SIPITANG)', 'SIN (SINDUMIN)', 'SNS (SIN ON)', 'SOO (IBUSAWAT SOOK (PHANTOM))', 'SPA (SEMPORNA EXCHANGE)', 'SPLT (MARS SAPI PLANTASION)', 'TAA (TALAGA)', 'TBN (TAMBUNAN EXCH)', 'TGD (TONGOD)', 'TGNR (MARS TGNR)', 'TGRUCS (TANJUNG ARU SKDL)', 'TGS (TIMBANG MENGGARIS)', 'THN (TENGHILAN)', 'TIKO (MARS TIKO)', 'TLP (TELUPID)', 'TNM (TENOM)', 'TPL (IBUSAWAT TAMPARULI)', 'TRN (IBUSAWAT TUARAN)', 'TTP (TUNGKU)', 'TWU (TWU EXCH)', 'UDSN (MARS ULU DUSUN)', 'UMA (UMAS-UMAS)', 'WTN (WESTON)']), ('Sarawak', ['ASA (SADONG JAYA)', 'ASA (SEMERA)', 'ASA (ASA JAYA)', 'BAAI (BATANG AI)', 'BAAR (BATANG AI RESORT)', 'BAKI (BAKI)', 'BAO (BAKO (CASS EXC))', 'BARI (BALAI RINGIN)', 'BARIO (BARIO)', 'BAU (BAU)', 'BEK (BEKENU)', 'BELI (BELIONG)', 'BELW (BELAWAI)', 'BGN (BALINGIAN)', 'BKAM (BAKAM)', 'BLDN (BELADIN)', 'BLG (BELAGA)', 'BLI (BUKIT LIMA)', 'BLU (BELURU)', 'BMA (BUKIT MAS)', 'BNG (BINTANGOR)', 'BNH (BATU NIAH)', 'BSP (BUKIT SEMUPOH)', 'BSZ (BUKIT SINGGALANG)', 'BTG (BETONG)', 'BTU (BINTULU)', 'BTUCS (BINTULU SKDL)', 'BULA (BUKIT LAN)', 'DBK (DEBAK)', 'DLT (DALAT)', 'DMBH (DAMAI BEACH)', 'DMBH (KUCHING SKDL)', 'DRO (DARO)', 'DURN (DURIN)', 'EKL (ENGKILILI)', 'GDNG (GEDONG)', 'JKR (JAKAR)', 'JUL (JULAU)', 'KBG (KABONG)', 'KBRM (KUALA BARAM)', 'KEKA (KG. KEKAN)', 'KG (IBUSAWAT KUCHING UNIT 3)', 'KGPT (KUCHING POLYTECH)', 'KJPD (KPG. JEPAK)', 'KMDG (KPG. MEDONG)', 'KNT (KANOWIT)', 'KPAH (KPG. PAHLAWAN)', 'KPT (KAPIT)', 'KSN (KOTA SAMARAHAN)', 'KTRA (KPG TUN ABDUL RAZAK)', 'KUIG (KUALA IGAN)', 'KUL1 (KUALA LAWAS 1)', 'KUL2 (KUALA LAWAS 2)', 'LAN (LANANG)', 'LBDN (LONG BEDIAN)', 'LDU (CABIN)', 'LDU (LUNDU)', 'LG (LIMBANG)', 'LGA (LINGGA)', 'LKA (LUBOK ANTU)', 'LLA (LONG LAMA)', 'LTG (LUTONG)', 'LWP (GNG LOWER SERAPI)', 'LWS (LAWAS)', 'M34 (TM MILE34)', 'MATU (MATU)', 'MCAN (MACHAN)', 'MDI (MARUDI)', 'MKH (MUKAH)', 'MLM (MALUDAM)', 'MR (MIRI)', 'MRCS (MIRI SKDL)', 'MTJ (MTJ1)', 'MTJ (MATANG JAYA)', 'MUTE (MUARA TEBAS (CASS))', 'NGMA (NANGA MEGAMIT)', 'OYAA (OYA)', 'PAKN (PAKAN)', 'PKTO (PULAU KERTO)', 'PNH (BORNEO HIGHLANDS RESORT)', 'PNN (PENRISSEN)', 'PNT (PANTU)', 'PPN (PENDING)', 'PRDM (PARADOM)', 'PRJ (PETRA JAYA)', 'PSA (PUSA)', 'PUNA (PUNANG)', 'RBN (ROBAN)', 'REJG (REJANG)', 'SAN (SRI AMAN)', 'SATN (SANTIN)', 'SB (IBUSAWAT SIBU)', 'SBGN (SEBANGAN)', 'SBH (SEBAUH)', 'SBN (SIBURAN)', 'SBU (SEBUYAU)', 'SDR (SUNDAR)', 'SELA (SELALO)', 'SIAI (SIBU AIRPORT)', 'SJGT (SEJINGKAT)', 'SJN (SIMUNJAN)', 'SJU (SAMALAJU)', 'SJY (SIBU JAYA)', 'SLGU (SELANGAU)', 'SLLG (SELALANG)', 'SMN (SEMATAN)', 'SNN (SINIAWAN)', 'SOIP (SARAWAK OIL PALM MARS STATION)', 'SON (SONG)', 'SONMW (SONG MICROWAVE)', 'SPH (SPAOH)', 'SPNG (STAPANG)', 'SRK (SARIKEI)', 'SRN (SERIAN CNO)', 'SRN (SERIAN RS CABIN)', 'SRN (SERIAN)', 'STK (SARATOK)', 'STM (STAMPIN)', 'STP (STAPOK)', 'SUKU (SUNGAI KUT)', 'SUSA (SG. SADIT)', 'TAKU (TG. KUNYIT)', 'TAMB (TAMBIRAT)', 'TBJ (TABUAN JAYA)', 'TBKG (TEBAKANG)', 'TBU (TEBEDU)', 'TELA (TELAGA AIR)', 'TJMA (TG. MANIS TPZ)', 'TKD (TANJUNG KIDURONG)', 'TMA (TAMAN MALIHAH)', 'TMI (TG. MANIS)', 'TNT (TAMAN TUNKU)', 'TPH (TAPAH)', 'TRSN (TRUSAN)', 'TTU (TATAU)', 'TULA (TULAI)', 'UNM (UNIMAS)', 'USP (GNG UPPER SERAPI)'])]\n"
     ]
    }
   ],
   "source": [
    "print(stateExchange)"
   ]
  },
  {
   "cell_type": "code",
   "execution_count": 344,
   "metadata": {},
   "outputs": [],
   "source": [
    "driver.switch_to.default_content()\n",
    "sleep(2)"
   ]
  },
  {
   "cell_type": "code",
   "execution_count": 345,
   "metadata": {},
   "outputs": [],
   "source": [
    "\n",
    "df = pd.DataFrame(stateExchange)\n",
    "\n",
    "df.to_csv('TMonlineMap2.csv', index= False, header = False)"
   ]
  }
 ],
 "metadata": {
  "kernelspec": {
   "display_name": "Python 3",
   "language": "python",
   "name": "python3"
  },
  "language_info": {
   "codemirror_mode": {
    "name": "ipython",
    "version": 3
   },
   "file_extension": ".py",
   "mimetype": "text/x-python",
   "name": "python",
   "nbconvert_exporter": "python",
   "pygments_lexer": "ipython3",
   "version": "3.9.13 (tags/v3.9.13:6de2ca5, May 17 2022, 16:36:42) [MSC v.1929 64 bit (AMD64)]"
  },
  "orig_nbformat": 4,
  "vscode": {
   "interpreter": {
    "hash": "39ae85b3ee882a2d92377b475b3720bc294fe64b3d1e7ba3acbb372d6ccd0baa"
   }
  }
 },
 "nbformat": 4,
 "nbformat_minor": 2
}
